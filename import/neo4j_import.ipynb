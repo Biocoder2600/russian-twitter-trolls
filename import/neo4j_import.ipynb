{
 "cells": [
  {
   "cell_type": "markdown",
   "metadata": {},
   "source": [
    "# Neo4j Import\n",
    "\n",
    "Now that we have our scraped tweet data we're ready to insert into Neo4j. We'll do this by loading the JSON data and passing it as a parameter to a Cypher query, using the Python driver for Neo4j."
   ]
  },
  {
   "cell_type": "code",
   "execution_count": 12,
   "metadata": {
    "collapsed": true
   },
   "outputs": [],
   "source": [
    "from neo4j.v1 import GraphDatabase\n",
    "import json"
   ]
  },
  {
   "cell_type": "code",
   "execution_count": 22,
   "metadata": {
    "collapsed": true
   },
   "outputs": [],
   "source": [
    "driver = GraphDatabase.driver(\"bolt://localhost:7687\")"
   ]
  },
  {
   "cell_type": "code",
   "execution_count": 23,
   "metadata": {
    "collapsed": true
   },
   "outputs": [],
   "source": [
    "with open('./data/tweets_full.json') as json_data:\n",
    "    tweetArr = json.load(json_data)"
   ]
  },
  {
   "cell_type": "code",
   "execution_count": 24,
   "metadata": {},
   "outputs": [
    {
     "data": {
      "text/plain": [
       "1538"
      ]
     },
     "execution_count": 24,
     "metadata": {},
     "output_type": "execute_result"
    }
   ],
   "source": [
    "len(tweetArr)"
   ]
  },
  {
   "cell_type": "code",
   "execution_count": 25,
   "metadata": {
    "collapsed": true
   },
   "outputs": [],
   "source": [
    "import_query = '''\n",
    "WITH $tweetArr AS tweets\n",
    "UNWIND tweets AS tweet\n",
    "MERGE (u:User {user_id: tweet.user_id})\n",
    "ON CREATE SET u.screen_name = tweet.screen_name\n",
    "MERGE (t:Tweet {tweet_id: tweet.tweet_id})\n",
    "ON CREATE SET t.text = tweet.tweet_text,\n",
    "              t.permalink = tweet.permalink\n",
    "MERGE (u)-[:POSTED]->(t)\n",
    "\n",
    "FOREACH (ht IN tweet.hashtags |\n",
    "  MERGE (h:Hashtag {tag: ht.tag })\n",
    "  ON CREATE SET h.archived_url = ht.archived_url\n",
    "  MERGE (t)-[:HAS_TAG]->(h)\n",
    ")\n",
    "\n",
    "FOREACH (link IN tweet.links |\n",
    "  MERGE (l:Link {url: link.url})\n",
    "  ON CREATE SET l.archived_url = link.archived_url\n",
    "  MERGE (t)-[:HAS_LINK]->(l)\n",
    ")\n",
    "\n",
    "'''\n",
    "\n",
    "def add_tweets(tx):\n",
    "    tx.run(import_query, tweetArr=tweetArr)"
   ]
  },
  {
   "cell_type": "code",
   "execution_count": 26,
   "metadata": {
    "collapsed": true
   },
   "outputs": [],
   "source": [
    "with driver.session() as session:\n",
    "    session.write_transaction(add_tweets)"
   ]
  },
  {
   "cell_type": "code",
   "execution_count": 1,
   "metadata": {
    "collapsed": true
   },
   "outputs": [],
   "source": [
    "# GraphQL schema\n",
    "\n",
    "graphQL_schema = '''\n",
    "\n",
    "type Tweet {\n",
    "    tweet_id: ID!\n",
    "    text: String\n",
    "    permalink: String\n",
    "    author: User @relation(name: \"POSTED\", direction: \"IN\")\n",
    "    hashtags: [Hashtag] @relation(name: \"HAS_TAG\", direction: \"IN\")\n",
    "    links: [Link] @relation(name: \"HAS_LINK\", direction: \"IN\")\n",
    "}\n",
    "\n",
    "type User {\n",
    "    user_id: ID!\n",
    "    screen_name: String\n",
    "    tweets: [Tweet] @relation(name: \"POSTED\", direction: \"OUT\")\n",
    "}\n",
    "\n",
    "type Hashtag {\n",
    "    tag: ID!\n",
    "    archived_url: String\n",
    "    tweets: [Tweet] @relation(name: \"HAS_TAG\", direction: \"IN\")\n",
    "}\n",
    "\n",
    "type Link {\n",
    "    url: ID!\n",
    "    archived_url: String\n",
    "    \n",
    "\n",
    "}\n",
    "\n",
    "\n",
    "'''"
   ]
  },
  {
   "cell_type": "code",
   "execution_count": null,
   "metadata": {
    "collapsed": true
   },
   "outputs": [],
   "source": []
  }
 ],
 "metadata": {
  "kernelspec": {
   "display_name": "Python 3",
   "language": "python",
   "name": "python3"
  },
  "language_info": {
   "codemirror_mode": {
    "name": "ipython",
    "version": 3
   },
   "file_extension": ".py",
   "mimetype": "text/x-python",
   "name": "python",
   "nbconvert_exporter": "python",
   "pygments_lexer": "ipython3",
   "version": "3.6.1"
  }
 },
 "nbformat": 4,
 "nbformat_minor": 2
}
